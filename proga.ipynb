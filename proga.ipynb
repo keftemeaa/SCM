{
 "cells": [
  {
   "cell_type": "markdown",
   "id": "96b5c5b4",
   "metadata": {},
   "source": [
    "# Выполнил: Сатаев Егор 3822Б1ПР3\n",
    "\n",
    "# Вычисление интеграла разными методами\n",
    "\n",
    "Мы начинаем с интеграла\n",
    "$$-\\frac{4}{9} = \\int_0^1\\sqrt[]{x}ln{x} dx$$\n",
    "Нам нужно приближенно найти значение этого интеграла, то есть, попытаться понять, какому числу он равен.\n"
   ]
  },
  {
   "cell_type": "markdown",
   "id": "7b343fbb",
   "metadata": {},
   "source": [
    "## Рисуем график\n",
    "\n",
    "Сначала мы нарисуем график этого выражения, чтобы визуализировать нашу задачу. Для этого используем библиотеки Python numpy, matplotlib и scipy."
   ]
  },
  {
   "cell_type": "code",
   "execution_count": 8,
   "id": "5e62e953",
   "metadata": {},
   "outputs": [
    {
     "data": {
      "image/png": "[encoded data removed]",
      "text/plain": [
       "<Figure size 640x480 with 1 Axes>"
      ]
     },
     "metadata": {},
     "output_type": "display_data"
    }
   ],
   "source": [
    "import numpy as np\n",
    "import matplotlib.pyplot as plt\n",
    "from scipy import integrate\n",
    "\n",
    "def plot_func():\n",
    "    x_points = np.linspace(1e-3, 1, 100)\n",
    "    y_points = np.sqrt(x_points) * np.log(x_points)\n",
    "    plt.plot(x_points, y_points)\n",
    "    plt.grid(True)\n",
    "    plt.show()\n",
    "    \n",
    "plot_func()"
   ]
  },
  {
   "cell_type": "markdown",
   "id": "da148d99",
   "metadata": {},
   "source": [
    "Объявляем общие переменные для всех методов"
   ]
  },
  {
   "cell_type": "code",
   "execution_count": 9,
   "id": "ef85a3ba",
   "metadata": {},
   "outputs": [],
   "source": [
    "nodes = [2, 4, 8, 16, 32, 64, 128]\n",
    "error = -4 / 9\n",
    "result = []"
   ]
  },
  {
   "cell_type": "markdown",
   "id": "bb5048c2",
   "metadata": {},
   "source": [
    "Создадим функцию по вычислению погрешности"
   ]
  },
  {
   "cell_type": "code",
   "execution_count": 10,
   "id": "57fd5bdf",
   "metadata": {},
   "outputs": [],
   "source": [
    "def calc_pogr(h, u, x_values, error, f):\n",
    "    y_values = f(x_values, h)\n",
    "    sum_res = h * sum(y_values)\n",
    "    pogr = abs(sum_res - error)\n",
    "    return pogr"
   ]
  },
  {
   "cell_type": "markdown",
   "id": "6b261d9d",
   "metadata": {},
   "source": [
    "Создадим функцию для вывода погрешности в виде таблицы"
   ]
  },
  {
   "cell_type": "code",
   "execution_count": 11,
   "id": "d07e5233",
   "metadata": {},
   "outputs": [],
   "source": [
    "def print_pogr(nodes, pogr_list):\n",
    "    print(f\"кол-во узлов  | полученная погрешность\")\n",
    "    print(f\"--------------------------------------\")\n",
    "    for u, pogr in zip(nodes, pogr_list):\n",
    "        print(f\"  {str(u).ljust(11, ' ')} | {pogr}\")\n",
    "    print(\"\\n Средняя погрешность \", sum(pogr_list) / 7)"
   ]
  },
  {
   "cell_type": "markdown",
   "id": "340958b0",
   "metadata": {},
   "source": [
    "Создадим функцию для подсчета результатов"
   ]
  },
  {
   "cell_type": "code",
   "execution_count": 12,
   "id": "4ac716b0",
   "metadata": {},
   "outputs": [],
   "source": [
    "def calc_result(method_name, pogr_list):\n",
    "    return (method_name, sum(pogr_list) / 7)"
   ]
  },
  {
   "cell_type": "markdown",
   "id": "2c48ac51",
   "metadata": {},
   "source": [
    "## Метод прямоугольников\n",
    "\n",
    "Теперь мы попытаемся найти интеграл, используя разные методы. Первый метод - метод прямоугольников. Мы делим область под графиком на много маленьких прямоугольников, считаем их площади и складываем их. Это и будет нашим приближенным ответом."
   ]
  },
  {
   "cell_type": "markdown",
   "id": "e17ed284",
   "metadata": {},
   "source": [
    "## Метод правых прямоугольников\n",
    "\n",
    "Сначала пробуем метод правых прямоугольников. Здесь мы считаем площадь прямоугольников, используя высоту на правом краю каждого прямоугольника."
   ]
  },
  {
   "cell_type": "code",
   "execution_count": 13,
   "id": "057dfd55",
   "metadata": {},
   "outputs": [
    {
     "name": "stdout",
     "output_type": "stream",
     "text": [
      "кол-во узлов  | полученная погрешность\n",
      "--------------------------------------\n",
      "  2           | 0.1993799085773076\n",
      "  4           | 0.08634038563174029\n",
      "  8           | 0.03635440492493103\n",
      "  16          | 0.014969859599072877\n",
      "  32          | 0.006054958374678787\n",
      "  64          | 0.0024137607835620356\n",
      "  128         | 0.0009507895141901979\n",
      "\n",
      " Средняя погрешность  0.04949486677221183\n"
     ]
    }
   ],
   "source": [
    "pogr_list = [calc_pogr(1 / u, u, np.linspace(0, 1 - 1 / u, u), error, lambda x, h: np.sqrt(x + h) * np.log(x + h)) for u\n",
    "             in nodes]\n",
    "print_pogr(nodes, pogr_list)\n",
    "result.append(calc_result(\"Правило правых прямоугольников\", pogr_list))"
   ]
  },
  {
   "cell_type": "markdown",
   "id": "01653193",
   "metadata": {},
   "source": [
    "Мы смотрим, как меняется наш ответ в зависимости от количества прямоугольников. Чем больше прямоугольников, тем точнее должен быть наш ответ."
   ]
  },
  {
   "cell_type": "markdown",
   "id": "ba8ac0f0",
   "metadata": {},
   "source": [
    "## Метод средних прямоугольников\n",
    "В этом методе мы считаем высоту прямоугольника как значение функции в середине каждого прямоугольника."
   ]
  },
  {
   "cell_type": "code",
   "execution_count": 14,
   "id": "fc33fc29",
   "metadata": {},
   "outputs": [
    {
     "name": "stdout",
     "output_type": "stream",
     "text": [
      "кол-во узлов  | полученная погрешность\n",
      "--------------------------------------\n",
      "  2           | 0.02669913731382706\n",
      "  4           | 0.013631575781878014\n",
      "  8           | 0.00641468572678533\n",
      "  16          | 0.002859942849715136\n",
      "  32          | 0.0012274368075549935\n",
      "  64          | 0.0005121817551809738\n",
      "  128         | 0.00020917394825931135\n",
      "\n",
      " Средняя погрешность  0.007364876311885831\n"
     ]
    }
   ],
   "source": [
    "pogr_list = [\n",
    "    calc_pogr(1 / u, u, np.linspace(0, 1 - 1 / u, u), error, lambda x, h: np.sqrt(x + h / 2) * np.log(x + h / 2)) for u\n",
    "    in nodes]\n",
    "print_pogr(nodes, pogr_list)\n",
    "result.append(calc_result(\"Правило средних прямоугольников\", pogr_list))"
   ]
  },
  {
   "cell_type": "markdown",
   "id": "f2159574",
   "metadata": {},
   "source": [
    "## Метод левых прямоугольников\n",
    "\n",
    "Далее пробуем метод левых прямоугольников. Здесь высота прямоугольника берется от значения функции на левом краю каждого прямоугольника."
   ]
  },
  {
   "cell_type": "code",
   "execution_count": 15,
   "id": "86a62b66",
   "metadata": {
    "scrolled": true
   },
   "outputs": [
    {
     "name": "stdout",
     "output_type": "stream",
     "text": [
      "кол-во узлов  | полученная погрешность\n",
      "--------------------------------------\n",
      "  2           | 0.1992647793226579\n",
      "  4           | 0.08628282102234458\n",
      "  8           | 0.036325622631660115\n",
      "  16          | 0.014955468457709564\n",
      "  32          | 0.006047762803828516\n",
      "  64          | 0.0024101629933553914\n",
      "  128         | 0.0009489906105040191\n",
      "\n",
      " Средняя погрешность  0.04946222969172287\n"
     ]
    }
   ],
   "source": [
    "pogr_list = [calc_pogr(1 / u, u, np.linspace(1e-10, 1 - 1 / u, u), error, lambda x, h: np.sqrt(x) * np.log(x)) for u in\n",
    "             nodes]\n",
    "print_pogr(nodes, pogr_list)\n",
    "result.append(calc_result(\"Правило левых прямоугольников\", pogr_list))"
   ]
  },
  {
   "cell_type": "markdown",
   "id": "e887e915",
   "metadata": {},
   "source": [
    "## Метод трапеций\n",
    "\n",
    "Теперь пробуем метод трапеций. Здесь мы считаем площадь под графиком как сумму площадей трапеций, а не прямоугольников. Средняя линия трапеции находится посередине между значениями функции на левом и правом краях."
   ]
  },
  {
   "cell_type": "code",
   "execution_count": 16,
   "id": "8fdc6ea5",
   "metadata": {},
   "outputs": [
    {
     "name": "stdout",
     "output_type": "stream",
     "text": [
      "кол-во узлов  | полученная погрешность\n",
      "--------------------------------------\n",
      "  2           | 0.1993223439730849\n",
      "  4           | 0.08631160334731469\n",
      "  8           | 0.03634001379408547\n",
      "  16          | 0.014962664038909113\n",
      "  32          | 0.0060513605944257365\n",
      "  64          | 0.002411961888653835\n",
      "  128         | 0.0009498900581531022\n",
      "\n",
      " Средняя погрешность  0.04947854824208955\n"
     ]
    }
   ],
   "source": [
    "pogr_list = [calc_pogr(1 / u, u, np.linspace(1e-10, 1, u + 1), error,\n",
    "                       lambda x, h: (np.sqrt(x[:-1]) * np.log(x[:-1]) + np.sqrt(x[1:]) * np.log(x[1:])) / 2) for u in\n",
    "             nodes]\n",
    "print_pogr(nodes, pogr_list)\n",
    "result.append(calc_result(\"Правило трапеций\", pogr_list))"
   ]
  },
  {
   "cell_type": "markdown",
   "id": "dbae73d6",
   "metadata": {},
   "source": [
    "Тут мы снова смотрим, как меняется погрешность при изменении количества трапеций."
   ]
  },
  {
   "cell_type": "markdown",
   "id": "a0fff53c",
   "metadata": {},
   "source": [
    "## Метод Симпсона\n",
    "\n",
    "Наконец, мы используем метод Симпсона, который на каждом отрезке аппроксимирует функцию параболой, а не прямой линией."
   ]
  },
  {
   "cell_type": "code",
   "execution_count": 17,
   "id": "a3fb538a",
   "metadata": {},
   "outputs": [
    {
     "name": "stdout",
     "output_type": "stream",
     "text": [
      "кол-во узлов  | полученная погрешность\n",
      "--------------------------------------\n",
      "  2           | 0.11765335356751494\n",
      "  4           | 0.04864135647205797\n",
      "  8           | 0.019682817276342357\n",
      "  16          | 0.007836880787183753\n",
      "  32          | 0.0030809261129312038\n",
      "  64          | 0.0011988289867296276\n",
      "  128         | 0.0004625327813196356\n",
      "\n",
      " Средняя погрешность  0.028365242283439927\n"
     ]
    }
   ],
   "source": [
    "pogr_list = [abs(integrate.simps(np.sqrt(x) * np.log(x), dx=1 / u) - error) for u in nodes for x in\n",
    "             [np.linspace(1e-10, 1, u + 1)]]\n",
    "print_pogr(nodes, pogr_list)\n",
    "result.append(calc_result(\"Правило Симпсона\", pogr_list))"
   ]
  },
  {
   "cell_type": "markdown",
   "id": "5fd33af3",
   "metadata": {},
   "source": [
    "Тут мы тоже смотрим, как меняется погрешность при изменении количества отрезков."
   ]
  },
  {
   "cell_type": "markdown",
   "id": "f6d81bba",
   "metadata": {},
   "source": [
    "## Вывод\n",
    "\n",
    "В конце мы сравниваем погрешности всех методов и смотрим, какой из них оказался лучше всего для нашей задачи."
   ]
  },
  {
   "cell_type": "code",
   "execution_count": 18,
   "id": "3a19d62c",
   "metadata": {},
   "outputs": [
    {
     "name": "stdout",
     "output_type": "stream",
     "text": [
      "| Метод | Полученная средняя погрешность|\n",
      "|--------------------------------------|-------------------------------|\n",
      "| Правило средних прямоугольников     | 0.007364876311885831          |\n",
      "| Правило Симпсона                    | 0.028365242283439927          |\n",
      "| Правило левых прямоугольников       | 0.04946222969172287           |\n",
      "| Правило трапеций                    | 0.04947854824208955           |\n",
      "| Правило правых прямоугольников      | 0.04949486677221183           |\n"
     ]
    }
   ],
   "source": [
    "print(\"| Метод | Полученная средняя погрешность|\")\n",
    "print(\"|--------------------------------------|-------------------------------|\")\n",
    "for res in sorted(result, key=lambda x: x[1]):\n",
    "    print(f\"| {res[0].ljust(35, ' ')} | {str(res[1]).ljust(30, ' ')}|\")"
   ]
  }
 ],
 "metadata": {
  "kernelspec": {
   "display_name": "Python 3 (ipykernel)",
   "language": "python",
   "name": "python3"
  },
  "language_info": {
   "codemirror_mode": {
    "name": "ipython",
    "version": 3
   },
   "file_extension": ".py",
   "mimetype": "text/x-python",
   "name": "python",
   "nbconvert_exporter": "python",
   "pygments_lexer": "ipython3",
   "version": "3.9.10"
  }
 },
 "nbformat": 4,
 "nbformat_minor": 5
}
